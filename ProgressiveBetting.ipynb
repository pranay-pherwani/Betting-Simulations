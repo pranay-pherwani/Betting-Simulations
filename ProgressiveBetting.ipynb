{
  "nbformat": 4,
  "nbformat_minor": 0,
  "metadata": {
    "colab": {
      "name": "ProgressiveBetting.ipynb",
      "provenance": [],
      "collapsed_sections": [],
      "authorship_tag": "ABX9TyPyt2ZNa8yRfmMRD5UPr+2f",
      "include_colab_link": true
    },
    "kernelspec": {
      "name": "python3",
      "display_name": "Python 3"
    },
    "language_info": {
      "name": "python"
    }
  },
  "cells": [
    {
      "cell_type": "markdown",
      "metadata": {
        "id": "view-in-github",
        "colab_type": "text"
      },
      "source": [
        "<a href=\"https://colab.research.google.com/github/pranay-pherwani/Betting-Simulations/blob/main/ProgressiveBetting.ipynb\" target=\"_parent\"><img src=\"https://colab.research.google.com/assets/colab-badge.svg\" alt=\"Open In Colab\"/></a>"
      ]
    },
    {
      "cell_type": "code",
      "metadata": {
        "colab": {
          "base_uri": "https://localhost:8080/"
        },
        "id": "xoonl9HJAIYd",
        "outputId": "392839b0-68eb-489e-b009-06e350e2cc3f"
      },
      "source": [
        "import numpy as np\n",
        "import pandas as pd\n",
        "import seaborn as sns \n",
        "from scipy import integrate\n",
        "from mpl_toolkits import mplot3d\n",
        "import random\n",
        "import math\n",
        "import scipy.stats as stats\n",
        "import matplotlib.pyplot as plt\n",
        "!pip install pynverse\n",
        "from pynverse import inversefunc\n",
        "import matplotlib.animation as animation\n",
        "from matplotlib.animation import FuncAnimation\n",
        "import pylab\n",
        "%matplotlib notebook"
      ],
      "execution_count": 1,
      "outputs": [
        {
          "output_type": "stream",
          "name": "stdout",
          "text": [
            "Collecting pynverse\n",
            "  Downloading pynverse-0.1.4.4.tar.gz (8.7 kB)\n",
            "Requirement already satisfied: scipy>=0.11 in /usr/local/lib/python3.7/dist-packages (from pynverse) (1.4.1)\n",
            "Requirement already satisfied: numpy>=1.6 in /usr/local/lib/python3.7/dist-packages (from pynverse) (1.19.5)\n",
            "Building wheels for collected packages: pynverse\n",
            "  Building wheel for pynverse (setup.py) ... \u001b[?25l\u001b[?25hdone\n",
            "  Created wheel for pynverse: filename=pynverse-0.1.4.4-py3-none-any.whl size=6363 sha256=2dd96d883a28f4f29732f72032398e7b77fb5c8385b9f34033f1b3cd90ab8ee0\n",
            "  Stored in directory: /root/.cache/pip/wheels/06/eb/74/006b76fdd8229ed3767fef546c825c2924f1def2d023929d9d\n",
            "Successfully built pynverse\n",
            "Installing collected packages: pynverse\n",
            "Successfully installed pynverse-0.1.4.4\n"
          ]
        }
      ]
    },
    {
      "cell_type": "code",
      "metadata": {
        "colab": {
          "base_uri": "https://localhost:8080/",
          "height": 424
        },
        "id": "u-gdq5BGAUyk",
        "outputId": "6e9d4bbb-52ac-4ece-a643-b58d85b6c3dc"
      },
      "source": [
        "x0 = 1 # Amount you want to win\n",
        "k = 2047 # Number of about amount in your bankroll\n",
        "rounds = 2048\n",
        "bankroll = x0*k \n",
        "losses_to_bankrupt = np.floor(np.log(k+1)/np.log(2))\n",
        "win_rate = 0.49\n",
        "bankrupt_prob_per_round = (1-win_rate)**losses_to_bankrupt\n",
        "print(bankrupt_prob_per_round)\n",
        "bankrupt_probability = [0]\n",
        "for i in range(1,rounds):\n",
        "  if np.floor(np.log(k+1)/np.log(2)) > losses_to_bankrupt:\n",
        "    losses_to_bankrupt = losses_to_bankrupt+1\n",
        "  # if i-1==2**losses_to_bankrupt: # Adjust for extra losses till bankrupt\n",
        "  #   bankrupt_prob_per_round = bankrupt_prob_per_round*(1-win_rate)\n",
        "  b = (1-bankrupt_prob_per_round)**(i-1)*bankrupt_prob_per_round\n",
        "  bankrupt_probability.append(b)\n",
        "  k = k+1\n",
        "\n",
        "# x = np.arange(rounds)\n",
        "# exponential = bankrupt_prob_per_round*np.exp(-x*bankrupt_prob_per_round)\n",
        "indexes = np.arange(len(bankrupt_probability))\n",
        "fig, dx = plt.subplots(figsize=(8,6), sharex=False)\n",
        "plt.scatter(indexes,bankrupt_probability,color=\"red\")\n",
        "# plt.scatter(x,exponential,color=\"yellow\")\n",
        "plt.title(\"Probability of Going Bankrupt on a Specific Round\")"
      ],
      "execution_count": 4,
      "outputs": [
        {
          "output_type": "stream",
          "name": "stdout",
          "text": [
            "0.0006071163615208264\n"
          ]
        },
        {
          "output_type": "execute_result",
          "data": {
            "text/plain": [
              "Text(0.5, 1.0, 'Probability of Going Bankrupt on a Specific Round')"
            ]
          },
          "metadata": {},
          "execution_count": 4
        },
        {
          "output_type": "display_data",
          "data": {
            "image/png": "[encoded data removed]",
            "text/plain": [
              "<Figure size 576x432 with 1 Axes>"
            ]
          },
          "metadata": {
            "needs_background": "light"
          }
        }
      ]
    },
    {
      "cell_type": "code",
      "metadata": {
        "id": "16hYzYdDcqMo"
      },
      "source": [
        "# sum = 0\n",
        "# for i in range(len(bankrupt_probability)):\n",
        "#   sum = sum + i*bankrupt_probability[i]\n",
        "# print(sum)"
      ],
      "execution_count": null,
      "outputs": []
    },
    {
      "cell_type": "code",
      "metadata": {
        "colab": {
          "base_uri": "https://localhost:8080/",
          "height": 407
        },
        "id": "rC3jn569MEYD",
        "outputId": "732075b3-c30e-4533-88f4-9e201c0a4753"
      },
      "source": [
        "bp_cdf = [sum(bankrupt_probability[:y]) for y in range(1, len(bankrupt_probability) + 1)]\n",
        "indexes = np.arange(len(bp_cdf))\n",
        "fig, ex = plt.subplots(figsize=(8,6), sharex=False)\n",
        "plt.bar(indexes,bp_cdf)\n",
        "plt.title(\"Probability of Going Bankrupt after X Rounds\")"
      ],
      "execution_count": 5,
      "outputs": [
        {
          "output_type": "execute_result",
          "data": {
            "text/plain": [
              "Text(0.5, 1.0, 'Probability of Going Bankrupt after X Rounds')"
            ]
          },
          "metadata": {},
          "execution_count": 5
        },
        {
          "output_type": "display_data",
          "data": {
            "image/png": "[encoded data removed]",
            "text/plain": [
              "<Figure size 576x432 with 1 Axes>"
            ]
          },
          "metadata": {
            "needs_background": "light"
          }
        }
      ]
    },
    {
      "cell_type": "code",
      "metadata": {
        "colab": {
          "base_uri": "https://localhost:8080/"
        },
        "id": "xHuXpKdEJYEP",
        "outputId": "a7539273-eeda-4441-ce4e-a421d6f559e2"
      },
      "source": [
        "print(bp_cdf[10])"
      ],
      "execution_count": 6,
      "outputs": [
        {
          "output_type": "stream",
          "name": "stdout",
          "text": [
            "0.001577988014414851\n"
          ]
        }
      ]
    },
    {
      "cell_type": "markdown",
      "source": [
        "If you want to double your money (and thus withstand an extra loss) with a 49% win rate, the amount of rounds you would have to play would leave you with an extremely high (~70%) chance of going bankrupt. The probability is even higher if you wish to double an amount that is not approximately a power of 2."
      ],
      "metadata": {
        "id": "OPrVxdg0RMb8"
      }
    }
  ]
}